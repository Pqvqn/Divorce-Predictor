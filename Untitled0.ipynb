{
  "nbformat": 4,
  "nbformat_minor": 0,
  "metadata": {
    "colab": {
      "provenance": [],
      "authorship_tag": "ABX9TyPgZCb7pKlJtMhnvtINk9Fb",
      "include_colab_link": true
    },
    "kernelspec": {
      "name": "python3",
      "display_name": "Python 3"
    },
    "language_info": {
      "name": "python"
    }
  },
  "cells": [
    {
      "cell_type": "markdown",
      "metadata": {
        "id": "view-in-github",
        "colab_type": "text"
      },
      "source": [
        "<a href=\"https://colab.research.google.com/github/Pqvqn/Divorce-Predictor/blob/main/Untitled0.ipynb\" target=\"_parent\"><img src=\"https://colab.research.google.com/assets/colab-badge.svg\" alt=\"Open In Colab\"/></a>"
      ]
    },
    {
      "cell_type": "code",
      "execution_count": null,
      "metadata": {
        "colab": {
          "base_uri": "https://localhost:8080/",
          "height": 435
        },
        "id": "ei_m-rVq_D3j",
        "outputId": "16ff3c2d-5657-4367-eeab-aa642ec99d83"
      },
      "outputs": [
        {
          "output_type": "stream",
          "name": "stdout",
          "text": [
            "              precision    recall  f1-score   support\n",
            "\n",
            "           0       0.92      1.00      0.96        23\n",
            "           1       1.00      0.91      0.95        22\n",
            "\n",
            "    accuracy                           0.96        45\n",
            "   macro avg       0.96      0.95      0.96        45\n",
            "weighted avg       0.96      0.96      0.96        45\n",
            "\n"
          ]
        },
        {
          "output_type": "display_data",
          "data": {
            "text/plain": [
              "<Figure size 432x288 with 2 Axes>"
            ],
            "image/png": "[encoded data removed]"
          },
          "metadata": {
            "needs_background": "light"
          }
        }
      ],
      "source": [
        "import pandas as pd\n",
        "import numpy as np\n",
        "import matplotlib.pyplot as plt\n",
        "import sklearn\n",
        "from sklearn.neighbors import KNeighborsClassifier\n",
        "from sklearn.ensemble import RandomForestClassifier\n",
        "from sklearn.linear_model import LogisticRegression\n",
        "from sklearn.neural_network import MLPClassifier\n",
        "from sklearn.model_selection import train_test_split\n",
        "from sklearn.metrics import confusion_matrix, ConfusionMatrixDisplay, classification_report\n",
        "pd.options.mode.chained_assignment = None\n",
        "\n",
        "df = pd.read_csv(\"divorce_data.csv\",sep=\";\")\n",
        "# print(df.dtypes)\n",
        "df.describe().transpose()\n",
        "\n",
        "# plot = df.boxplot(column=['Q1'])\n",
        "\n",
        "# hf = df.loc[df['Divorce'] == 1]\n",
        "# hf.hist(column='Q41')\n",
        "# hf = df.loc[df['Divorce'] == 0]\n",
        "# hf.hist(column='Q41')\n",
        "\n",
        "df = df.drop_duplicates()\n",
        "\n",
        "target = ['Divorce']\n",
        "predictors = list(set(list(df.columns))-set(target))\n",
        "df[predictors] = df[predictors]/df[predictors].max()\n",
        "\n",
        "df.head()\n",
        "\n",
        "target_feature = ['Divorce']\n",
        "features = list(set(list(df.columns))-set(target))\n",
        "X = df[features].values\n",
        "y = df[target_feature].values\n",
        "y = np.ravel(y)\n",
        "\n",
        "X_train, X_test, y_train, y_test = train_test_split(X, y, test_size = .3, random_state=28)\n",
        "\n",
        "model = KNeighborsClassifier(n_neighbors=5)\n",
        "\n",
        "#model = RandomForestClassifier(n_estimators=100)\n",
        "\n",
        "#model = LogisticRegression(random_state=0)\n",
        "\n",
        "#nodes = len(df.columns)\n",
        "#model = MLPClassifier(hidden_layer_sizes=(nodes,nodes,nodes), activation='relu', solver='adam', max_iter=500)\n",
        "\n",
        "\n",
        "model.fit(X_train, y_train)\n",
        "predict_test = model.predict(X_test)\n",
        "\n",
        "\n",
        "cm = confusion_matrix(y_test, predict_test)\n",
        "disp = ConfusionMatrixDisplay(confusion_matrix=cm)\n",
        "disp.plot()\n",
        "print(classification_report(y_test, predict_test))\n",
        "\n",
        "\n",
        "\n"
      ]
    },
    {
      "cell_type": "code",
      "source": [
        "from google.colab import drive\n",
        "drive.mount('/content/drive')"
      ],
      "metadata": {
        "id": "DPGLkmNFHmF-"
      },
      "execution_count": null,
      "outputs": []
    }
  ]
}